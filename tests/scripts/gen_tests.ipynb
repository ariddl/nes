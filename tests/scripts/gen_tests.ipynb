{
 "cells": [
  {
   "cell_type": "code",
   "execution_count": 18,
   "metadata": {},
   "outputs": [
    {
     "name": "stdout",
     "output_type": "stream",
     "text": [
      "LDA #00\n",
      "ADC #0\n",
      "STA $00\n",
      "LDA #00\n",
      "ADC #1\n",
      "STA $11\n",
      "LDA #00\n",
      "ADC #4\n",
      "STA $22\n",
      "LDA #00\n",
      "ADC #9\n",
      "STA $33\n",
      "LDA #00\n",
      "ADC #16\n",
      "STA $44\n",
      "LDA #00\n",
      "ADC #25\n",
      "STA $55\n",
      "LDA #00\n",
      "ADC #36\n",
      "STA $66\n",
      "LDA #00\n",
      "ADC #49\n",
      "STA $77\n",
      "LDA #00\n",
      "ADC #64\n",
      "STA $88\n",
      "LDA #00\n",
      "ADC #81\n",
      "STA $99\n"
     ]
    }
   ],
   "source": [
    "for i in range(0, 10):\n",
    "    print(\"LDA #00\")\n",
    "    print(\"ADC #{}\".format((i*i)))\n",
    "    print(\"STA ${}{}\".format(i, i))"
   ]
  }
 ],
 "metadata": {
  "interpreter": {
   "hash": "daf9593825b4e8693e26bd1e75ff6ea2d055965e39f76f8654e575a07df6e859"
  },
  "kernelspec": {
   "display_name": "Python 3.9.9 64-bit",
   "language": "python",
   "name": "python3"
  },
  "language_info": {
   "codemirror_mode": {
    "name": "ipython",
    "version": 3
   },
   "file_extension": ".py",
   "mimetype": "text/x-python",
   "name": "python",
   "nbconvert_exporter": "python",
   "pygments_lexer": "ipython3",
   "version": "3.9.9"
  },
  "orig_nbformat": 4
 },
 "nbformat": 4,
 "nbformat_minor": 2
}
