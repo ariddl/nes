{
 "cells": [
  {
   "cell_type": "code",
   "execution_count": 56,
   "metadata": {},
   "outputs": [
    {
     "ename": "IndexError",
     "evalue": "list index out of range",
     "output_type": "error",
     "traceback": [
      "\u001b[0;31m---------------------------------------------------------------------------\u001b[0m",
      "\u001b[0;31mIndexError\u001b[0m                                Traceback (most recent call last)",
      "\u001b[0;32m/var/folders/7x/yd339sv964dfr8wrt9nj5qmr0000gn/T/ipykernel_43850/1676396242.py\u001b[0m in \u001b[0;36m<module>\u001b[0;34m\u001b[0m\n\u001b[1;32m     24\u001b[0m         \u001b[0maddr_mode\u001b[0m \u001b[0;34m=\u001b[0m \u001b[0;34m\"&cpu::IMP()\"\u001b[0m\u001b[0;34m\u001b[0m\u001b[0;34m\u001b[0m\u001b[0m\n\u001b[1;32m     25\u001b[0m         \u001b[0mbytes\u001b[0m \u001b[0;34m=\u001b[0m \u001b[0;36m1\u001b[0m\u001b[0;34m\u001b[0m\u001b[0;34m\u001b[0m\u001b[0m\n\u001b[0;32m---> 26\u001b[0;31m     \u001b[0;32mif\u001b[0m\u001b[0;34m(\u001b[0m\u001b[0mline\u001b[0m\u001b[0;34m[\u001b[0m\u001b[0;36m2\u001b[0m\u001b[0;34m]\u001b[0m \u001b[0;34m==\u001b[0m \u001b[0;34m\"A\"\u001b[0m\u001b[0;34m)\u001b[0m\u001b[0;34m:\u001b[0m\u001b[0;34m\u001b[0m\u001b[0;34m\u001b[0m\u001b[0m\n\u001b[0m\u001b[1;32m     27\u001b[0m         \u001b[0maddr_mode\u001b[0m \u001b[0;34m=\u001b[0m \u001b[0;34m\"&cpu::ACC()\"\u001b[0m\u001b[0;34m\u001b[0m\u001b[0;34m\u001b[0m\u001b[0m\n\u001b[1;32m     28\u001b[0m         \u001b[0mbytes\u001b[0m \u001b[0;34m=\u001b[0m \u001b[0;36m1\u001b[0m\u001b[0;34m\u001b[0m\u001b[0;34m\u001b[0m\u001b[0m\n",
      "\u001b[0;31mIndexError\u001b[0m: list index out of range"
     ]
    }
   ],
   "source": [
    "\n",
    "f = open('cycles.txt', 'r')\n",
    "lines = f.readlines()\n",
    "cycles = {}\n",
    "for line in lines:\n",
    "    line = line.split()\n",
    "    if(line[1] == \"X\"):\n",
    "        cycle = -1\n",
    "    else: \n",
    "        cycle = line[1][:1]\n",
    "    cycles[line[0]] = cycle\n",
    "f.close()\n",
    "\n",
    "\n",
    "\n",
    "\n",
    "f = open('opcodes.txt', 'r')\n",
    "lines = f.readlines()\n",
    "opcodes = {}\n",
    "for line in lines:\n",
    "    line = line.split()\n",
    "    if(len(line[2]) == 2):\n",
    "        addr_mode = \"&cpu::IMP\"\n",
    "        bytes = 1\n",
    "    elif(line[2] == \"A\"):\n",
    "        addr_mode = \"&cpu::ACC\"\n",
    "        bytes = 1\n",
    "    elif(line[2] == \"#d8\"):\n",
    "        addr_mode == \"&cpu::IMM\"\n",
    "        bytes = 2\n",
    "    elif(line[2] == \"a8\"):\n",
    "        addr_mode == \"&cpu::ZP\"\n",
    "        bytes = 2\n",
    "    elif(line[2] == \"a8,X\"):\n",
    "        addr_mode == \"&cpu::ZPX\"\n",
    "        bytes = 2\n",
    "    elif(line[2] == \"a8,Y\"):\n",
    "        addr_mode == \"&cpu::ZPY\"\n",
    "        bytes = 2\n",
    "    elif(line[2] == '(a8,X)'):\n",
    "        addr_mode == \"&cpu::IDZPX\"\n",
    "        bytes = 2\n",
    "    elif(line[2] == \"(a8),Y\"):\n",
    "        addr_mode == \"&cpu::IDZPY\"\n",
    "        bytes = 2\n",
    "    elif(line[2] == \"a16\"):\n",
    "        addr_mode == \"&cpu::ABS\"\n",
    "        bytes = 3\n",
    "    elif(line[2] == \"a16,X\"):\n",
    "        addr_mode == \"&cpu::ABX\"\n",
    "        bytes = 3\n",
    "    elif(line[2] == \"a16,Y\"):\n",
    "        addr_mode == \"&cpu::ABY\"\n",
    "        bytes = 3\n",
    "    elif(line[2] == \"(a16)\"):\n",
    "        addr_mode == \"&cpu::IDABS\"\n",
    "        bytes = 3\n",
    "    elif(line[2] == \"r8\"):\n",
    "        addr_mode == \"&cpu::REL\"\n",
    "        bytes = 2\n",
    "    print(addr_mode)\n",
    "    opcodes[line[0]] = (\"\\\"{}\\\"\".format(line[1]), \"&cpu::{}\".format(line[1]), addr_mode, cycles[line[0]], bytes) \n",
    "\n",
    "for key in opcodes:\n",
    "    print(\"opcode_set[0x{}] = \".format(key), \"{\", \\\n",
    "        \"{0}, {1}, {2}, {3}, {4}\".format(opcodes[key][0], opcodes[key][1], opcodes[key][2], opcodes[key][3], opcodes[key][4]), \"};\")\n",
    "\n",
    "\n"
   ]
  }
 ],
 "metadata": {
  "interpreter": {
   "hash": "aee8b7b246df8f9039afb4144a1f6fd8d2ca17a180786b69acc140d282b71a49"
  },
  "kernelspec": {
   "display_name": "Python 3.9.6 64-bit",
   "language": "python",
   "name": "python3"
  },
  "language_info": {
   "name": "python",
   "version": "3.9.6"
  },
  "orig_nbformat": 4
 },
 "nbformat": 4,
 "nbformat_minor": 2
}
